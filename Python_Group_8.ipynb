{
  "nbformat": 4,
  "nbformat_minor": 0,
  "metadata": {
    "colab": {
      "provenance": [],
      "authorship_tag": "ABX9TyNR8ZNTdndynFM0ZHPmbtUm",
      "include_colab_link": true
    },
    "kernelspec": {
      "name": "python3",
      "display_name": "Python 3"
    },
    "language_info": {
      "name": "python"
    }
  },
  "cells": [
    {
      "cell_type": "markdown",
      "metadata": {
        "id": "view-in-github",
        "colab_type": "text"
      },
      "source": [
        "<a href=\"https://colab.research.google.com/github/SkibidiArtyMcfly/Management-rental-mobil/blob/main/Python_Group_8.ipynb\" target=\"_parent\"><img src=\"https://colab.research.google.com/assets/colab-badge.svg\" alt=\"Open In Colab\"/></a>"
      ]
    },
    {
      "cell_type": "code",
      "execution_count": null,
      "metadata": {
        "colab": {
          "base_uri": "https://localhost:8080/"
        },
        "id": "5buBdQju5_eW",
        "outputId": "b0ee5473-ba78-46ab-8696-a7e679726862"
      },
      "outputs": [
        {
          "output_type": "stream",
          "name": "stdout",
          "text": [
            "   ID_Mobil          Nama_Mobil  Tipe_Mobil  Status_Mobil  \\\n",
            "0         1       Toyota Avanza           1             2   \n",
            "1         2          Honda CR-V           2             3   \n",
            "2         3       Suzuki Ertiga           1             1   \n",
            "3         4         Honda Civic           3             1   \n",
            "4         5     Toyota Fortuner           2             4   \n",
            "5         6  Mitsubishi Xpander           1             3   \n",
            "6         7       Nissan Livina           1             1   \n",
            "7         8       Toyota Innova           1             4   \n",
            "8         9          Honda HR-V           2             1   \n",
            "9        10          Honda Jazz           3             4   \n",
            "\n",
            "                                           Lokasi  Customer_ID  \n",
            "0                Jl. Thamrin No. 3, Jakarta Pusat        101.0  \n",
            "1           Jl. Raya Cawang No. 10, Jakarta Timur        102.0  \n",
            "2  Jl. Raya Kebayoran Baru No. 5, Jakarta Selatan          NaN  \n",
            "3  Jl. Raya Kebayoran Baru No. 5, Jakarta Selatan          NaN  \n",
            "4               Jl. Merdeka No. 15, Jakarta Barat          NaN  \n",
            "5          Jl. Sunter Agung No. 12, Jakarta Utara        103.0  \n",
            "6  Jl. Raya Kebayoran Baru No. 5, Jakarta Selatan          NaN  \n",
            "7           Jl. Raya Cawang No. 10, Jakarta Timur        104.0  \n",
            "8  Jl. Raya Kebayoran Baru No. 5, Jakarta Selatan          NaN  \n",
            "9               Jl. Merdeka No. 15, Jakarta Barat          NaN  \n"
          ]
        }
      ],
      "source": [
        "import numpy as np\n",
        "import pandas as pd\n",
        "import seaborn as sns\n",
        "import random\n",
        "\n",
        "data_mobil = [[1,  \"Toyota Avanza\",  1,  2,  \"Jl. Thamrin No. 3, Jakarta Pusat\",  101],\n",
        "     [2,  \"Honda CR-V\",  2,  3,  \"Jl. Raya Cawang No. 10, Jakarta Timur\",  102],\n",
        "     [3,  \"Suzuki Ertiga\",  1,  1,  \"Jl. Raya Kebayoran Baru No. 5, Jakarta Selatan\",  None],\n",
        "     [4,  \"Honda Civic\",  3,  1,  \"Jl. Raya Kebayoran Baru No. 5, Jakarta Selatan\",  None],\n",
        "     [5,  \"Toyota Fortuner\",  2,  4,  \"Jl. Merdeka No. 15, Jakarta Barat\",  None],\n",
        "     [6,  \"Mitsubishi Xpander\",  1,  2,  \"Jl. Sunter Agung No. 12, Jakarta Utara\",  103],\n",
        "     [7,  \"Nissan Livina\",  1,  1,  \"Jl. Raya Kebayoran Baru No. 5, Jakarta Selatan\",  None],\n",
        "     [8,  \"Toyota Innova\",  1,  4,  \"Jl. Raya Cawang No. 10, Jakarta Timur\",  104],\n",
        "     [9,  \"Honda HR-V\",  2,  1,  \"Jl. Raya Kebayoran Baru No. 5, Jakarta Selatan\",  None],\n",
        "     [10,  \"Honda Jazz\",  3,  4,  \"Jl. Merdeka No. 15, Jakarta Barat\",  None]]\n",
        "\n",
        "df = pd.DataFrame(data_mobil, columns=['ID_Mobil', 'Nama_Mobil', 'Tipe_Mobil', 'Status_Mobil', 'Lokasi', 'Customer_ID'])\n",
        "print(df)"
      ]
    },
    {
      "cell_type": "code",
      "source": [
        "lokasi_mapping = {\n",
        "    1: \"Jl. Raya Kebayoran Baru No. 5, Jakarta Selatan\",\n",
        "    2: [\n",
        "        \"Jl. Sunter Agung No. 12, Jakarta Utara\",\n",
        "        \"Jl. Thamrin No. 3, Jakarta Pusat\",\n",
        "        \"Jl. Raya Kebayoran Baru No. 5, Jakarta Selatan\",\n",
        "    ],\n",
        "    3: [\n",
        "        \"Jl. Raya Cawang No. 10, Jakarta Timur\",\n",
        "    ],\n",
        "    4: [\n",
        "        \"Jl. Merdeka No. 15, Jakarta Barat\",\n",
        "    ]\n",
        "}"
      ],
      "metadata": {
        "id": "5ZzBIk5ZBEm3"
      },
      "execution_count": null,
      "outputs": []
    },
    {
      "cell_type": "code",
      "source": [
        "tipe_mobil_mapping = {\n",
        "    1: \"MPV\",\n",
        "    2: \"SUV\",\n",
        "    3: \"Sedan\"\n",
        "}\n",
        "\n",
        "status_mapping = {\n",
        "    1: \"Stand by\",\n",
        "    2: \"Tersewa\",\n",
        "    3: \"Rusak\",\n",
        "    4: \"Sedang Mekanik\"\n",
        "}\n"
      ],
      "metadata": {
        "id": "u7yxq__qBKa8"
      },
      "execution_count": null,
      "outputs": []
    },
    {
      "cell_type": "code",
      "source": [
        "from prettytable import PrettyTable\n",
        "tabelMobil = PrettyTable([\"ID\", \"Nama Mobil\", \"Tipe Mobil\", \"Status Mobil\", \"Customer ID\"])\n",
        "for index, row in df.iterrows():\n",
        "     tabelMobil.add_row([row['ID_Mobil'], row['Nama_Mobil'], tipe_mobil_mapping[row['Tipe_Mobil']], status_mapping[row['Status_Mobil']], row['Customer_ID']])\n",
        "print(tabelMobil)"
      ],
      "metadata": {
        "colab": {
          "base_uri": "https://localhost:8080/"
        },
        "id": "HbCd9fpwFz8Y",
        "outputId": "129c39b8-468c-440e-e31a-c6b63d699df0"
      },
      "execution_count": null,
      "outputs": [
        {
          "output_type": "stream",
          "name": "stdout",
          "text": [
            "+----+--------------------+------------+----------------+-------------+\n",
            "| ID |     Nama Mobil     | Tipe Mobil |  Status Mobil  | Customer ID |\n",
            "+----+--------------------+------------+----------------+-------------+\n",
            "| 1  |   Toyota Avanza    |    MPV     |    Tersewa     |    101.0    |\n",
            "| 2  |     Honda CR-V     |    SUV     |     Rusak      |    102.0    |\n",
            "| 3  |   Suzuki Ertiga    |    MPV     |    Stand by    |     nan     |\n",
            "| 4  |    Honda Civic     |   Sedan    |    Stand by    |     nan     |\n",
            "| 5  |  Toyota Fortuner   |    SUV     | Sedang Mekanik |     nan     |\n",
            "| 6  | Mitsubishi Xpander |    MPV     |     Rusak      |    103.0    |\n",
            "| 7  |   Nissan Livina    |    MPV     |    Stand by    |     nan     |\n",
            "| 8  |   Toyota Innova    |    MPV     | Sedang Mekanik |    104.0    |\n",
            "| 9  |     Honda HR-V     |    SUV     |    Stand by    |     nan     |\n",
            "| 10 |     Honda Jazz     |   Sedan    | Sedang Mekanik |     nan     |\n",
            "+----+--------------------+------------+----------------+-------------+\n"
          ]
        }
      ]
    },
    {
      "cell_type": "code",
      "source": [
        "mobil_rusak = [mobil for mobil in data_mobil if mobil[3] == 3]  # Use index 3 to access 'Status_Mobil'\n",
        "\n",
        "\n",
        "def gantikan_mobil_rusak():\n",
        " for rusak in mobil_rusak:\n",
        "\n",
        "        tipe_mobil_rusak = rusak[2]\n",
        "        customer_id = rusak[5]\n",
        "\n",
        "        # Use numerical indices for 'Status_Mobil' and 'Tipe_Mobil' in the generator expression\n",
        "        mobil_gantian = next((mobil for mobil in data_mobil if mobil[3] == 1 and mobil[2] == tipe_mobil_rusak), None)\n",
        "\n",
        "        if mobil_gantian != None:\n",
        "            print(f\"Mobil yang akan diganti: {rusak[1]} (ID: {rusak[0]}), Customer ID: {customer_id}, Status: Rusak\")\n",
        "            print(f\"Mobil pengganti: {mobil_gantian[1]} (ID: {mobil_gantian[0]}), Status: Standby\\n\")\n",
        "            df.loc[df['ID_Mobil'] == mobil_gantian[0], ['Status_Mobil', 'Customer_ID']] = [2, customer_id]\n",
        "            df.loc[df['ID_Mobil'] == rusak[0],['Status_Mobil', 'Customer_ID']] = [4, None]\n",
        "\n",
        "        else:\n",
        "            print(\"tidak ada mobil pengganti\")"
      ],
      "metadata": {
        "id": "L-AvnFTxStEl"
      },
      "execution_count": null,
      "outputs": []
    },
    {
      "cell_type": "code",
      "source": [
        "gantikan_mobil_rusak()"
      ],
      "metadata": {
        "colab": {
          "base_uri": "https://localhost:8080/"
        },
        "id": "TsXV8-LMZg2i",
        "outputId": "8feaff94-cac5-41de-eb1a-a24d16e630f6"
      },
      "execution_count": null,
      "outputs": [
        {
          "output_type": "stream",
          "name": "stdout",
          "text": [
            "Mobil yang akan diganti: Honda CR-V (ID: 2), Customer ID: 102, Status: Rusak\n",
            "Mobil pengganti: Honda HR-V (ID: 9), Status: Standby\n",
            "\n",
            "Mobil yang akan diganti: Mitsubishi Xpander (ID: 6), Customer ID: 103, Status: Rusak\n",
            "Mobil pengganti: Suzuki Ertiga (ID: 3), Status: Standby\n",
            "\n"
          ]
        }
      ]
    },
    {
      "cell_type": "code",
      "source": [
        "print(df)"
      ],
      "metadata": {
        "colab": {
          "base_uri": "https://localhost:8080/"
        },
        "id": "6CRd3ARjfIdS",
        "outputId": "d6eb2cc5-0a45-41a8-f698-d2aeb45d5977"
      },
      "execution_count": null,
      "outputs": [
        {
          "output_type": "stream",
          "name": "stdout",
          "text": [
            "   ID_Mobil          Nama_Mobil  Tipe_Mobil  Status_Mobil  \\\n",
            "0         1       Toyota Avanza           1             2   \n",
            "1         2          Honda CR-V           2             4   \n",
            "2         3       Suzuki Ertiga           1             2   \n",
            "3         4         Honda Civic           3             1   \n",
            "4         5     Toyota Fortuner           2             4   \n",
            "5         6  Mitsubishi Xpander           1             4   \n",
            "6         7       Nissan Livina           1             1   \n",
            "7         8       Toyota Innova           1             4   \n",
            "8         9          Honda HR-V           2             2   \n",
            "9        10          Honda Jazz           3             4   \n",
            "\n",
            "                                           Lokasi  Customer_ID  \n",
            "0                Jl. Thamrin No. 3, Jakarta Pusat        101.0  \n",
            "1           Jl. Raya Cawang No. 10, Jakarta Timur          NaN  \n",
            "2  Jl. Raya Kebayoran Baru No. 5, Jakarta Selatan        103.0  \n",
            "3  Jl. Raya Kebayoran Baru No. 5, Jakarta Selatan          NaN  \n",
            "4               Jl. Merdeka No. 15, Jakarta Barat          NaN  \n",
            "5          Jl. Sunter Agung No. 12, Jakarta Utara          NaN  \n",
            "6  Jl. Raya Kebayoran Baru No. 5, Jakarta Selatan          NaN  \n",
            "7           Jl. Raya Cawang No. 10, Jakarta Timur        104.0  \n",
            "8  Jl. Raya Kebayoran Baru No. 5, Jakarta Selatan        102.0  \n",
            "9               Jl. Merdeka No. 15, Jakarta Barat          NaN  \n"
          ]
        }
      ]
    },
    {
      "cell_type": "code",
      "source": [
        "def tabelData():\n",
        "  tabelMobil = PrettyTable([\"ID\", \"Nama Mobil\", \"Tipe Mobil\", \"Status Mobil\", \"Customer ID\"])\n",
        "  for index, row in df.iterrows():\n",
        "     tabelMobil.add_row([row['ID_Mobil'], row['Nama_Mobil'], tipe_mobil_mapping[row['Tipe_Mobil']], status_mapping[row['Status_Mobil']], row['Customer_ID']])\n",
        "  print(tabelMobil)\n",
        "\n",
        "tabelData()"
      ],
      "metadata": {
        "colab": {
          "base_uri": "https://localhost:8080/"
        },
        "id": "6g8MubJ6SXak",
        "outputId": "041601c1-3270-4d0a-f151-7e03f96b25c5"
      },
      "execution_count": null,
      "outputs": [
        {
          "output_type": "stream",
          "name": "stdout",
          "text": [
            "+----+--------------------+------------+----------------+-------------+\n",
            "| ID |     Nama Mobil     | Tipe Mobil |  Status Mobil  | Customer ID |\n",
            "+----+--------------------+------------+----------------+-------------+\n",
            "| 1  |   Toyota Avanza    |    MPV     |    Tersewa     |    101.0    |\n",
            "| 2  |     Honda CR-V     |    SUV     | Sedang Mekanik |     nan     |\n",
            "| 3  |   Suzuki Ertiga    |    MPV     |    Tersewa     |    103.0    |\n",
            "| 4  |    Honda Civic     |   Sedan    |    Stand by    |     nan     |\n",
            "| 5  |  Toyota Fortuner   |    SUV     | Sedang Mekanik |     nan     |\n",
            "| 6  | Mitsubishi Xpander |    MPV     | Sedang Mekanik |     nan     |\n",
            "| 7  |   Nissan Livina    |    MPV     |    Stand by    |     nan     |\n",
            "| 8  |   Toyota Innova    |    MPV     | Sedang Mekanik |    104.0    |\n",
            "| 9  |     Honda HR-V     |    SUV     |    Tersewa     |    102.0    |\n",
            "| 10 |     Honda Jazz     |   Sedan    | Sedang Mekanik |     nan     |\n",
            "+----+--------------------+------------+----------------+-------------+\n"
          ]
        }
      ]
    }
  ]
}